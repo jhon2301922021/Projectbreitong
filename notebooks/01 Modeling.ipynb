{
 "cells": [
  {
   "cell_type": "code",
   "execution_count": 26,
   "metadata": {},
   "outputs": [
    {
     "data": {
      "text/html": [
       "<pre style=\"white-space:pre;overflow-x:auto;line-height:normal;font-family:Menlo,'DejaVu Sans Mono',consolas,'Courier New',monospace\"><span style=\"color: #7fbfbf; text-decoration-color: #7fbfbf\">[06/12/24 13:06:03] </span><span style=\"color: #000080; text-decoration-color: #000080\">INFO    </span> Resolved project path as:                                              <a href=\"file://C:\\Users\\yair0\\anaconda3\\envs\\breitong\\lib\\site-packages\\kedro\\ipython\\__init__.py\" target=\"_blank\"><span style=\"color: #7f7f7f; text-decoration-color: #7f7f7f\">__init__.py</span></a><span style=\"color: #7f7f7f; text-decoration-color: #7f7f7f\">:</span><a href=\"file://C:\\Users\\yair0\\anaconda3\\envs\\breitong\\lib\\site-packages\\kedro\\ipython\\__init__.py#164\" target=\"_blank\"><span style=\"color: #7f7f7f; text-decoration-color: #7f7f7f\">164</span></a>\n",
       "<span style=\"color: #7fbfbf; text-decoration-color: #7fbfbf\">                    </span>         C:\\Users\\yair0\\OneDrive\\Escritorio\\Projectbreitong.                    <span style=\"color: #7f7f7f; text-decoration-color: #7f7f7f\">               </span>\n",
       "<span style=\"color: #7fbfbf; text-decoration-color: #7fbfbf\">                    </span>         To set a different path, run <span style=\"color: #008000; text-decoration-color: #008000\">'%reload_kedro &lt;project_root&gt;'</span>            <span style=\"color: #7f7f7f; text-decoration-color: #7f7f7f\">               </span>\n",
       "</pre>\n"
      ],
      "text/plain": [
       "\u001b[2;36m[06/12/24 13:06:03]\u001b[0m\u001b[2;36m \u001b[0m\u001b[34mINFO    \u001b[0m Resolved project path as:                                              \u001b]8;id=418634;file://C:\\Users\\yair0\\anaconda3\\envs\\breitong\\lib\\site-packages\\kedro\\ipython\\__init__.py\u001b\\\u001b[2m__init__.py\u001b[0m\u001b]8;;\u001b\\\u001b[2m:\u001b[0m\u001b]8;id=165465;file://C:\\Users\\yair0\\anaconda3\\envs\\breitong\\lib\\site-packages\\kedro\\ipython\\__init__.py#164\u001b\\\u001b[2m164\u001b[0m\u001b]8;;\u001b\\\n",
       "\u001b[2;36m                    \u001b[0m         C:\\Users\\yair0\\OneDrive\\Escritorio\\Projectbreitong.                    \u001b[2m               \u001b[0m\n",
       "\u001b[2;36m                    \u001b[0m         To set a different path, run \u001b[32m'%reload_kedro \u001b[0m\u001b[32m<\u001b[0m\u001b[32mproject_root\u001b[0m\u001b[32m>\u001b[0m\u001b[32m'\u001b[0m            \u001b[2m               \u001b[0m\n"
      ]
     },
     "metadata": {},
     "output_type": "display_data"
    },
    {
     "data": {
      "text/html": [
       "<pre style=\"white-space:pre;overflow-x:auto;line-height:normal;font-family:Menlo,'DejaVu Sans Mono',consolas,'Courier New',monospace\"><span style=\"color: #7fbfbf; text-decoration-color: #7fbfbf\">[06/12/24 13:06:04] </span><span style=\"color: #000080; text-decoration-color: #000080\">INFO    </span> Kedro project breitong                                                 <a href=\"file://C:\\Users\\yair0\\anaconda3\\envs\\breitong\\lib\\site-packages\\kedro\\ipython\\__init__.py\" target=\"_blank\"><span style=\"color: #7f7f7f; text-decoration-color: #7f7f7f\">__init__.py</span></a><span style=\"color: #7f7f7f; text-decoration-color: #7f7f7f\">:</span><a href=\"file://C:\\Users\\yair0\\anaconda3\\envs\\breitong\\lib\\site-packages\\kedro\\ipython\\__init__.py#134\" target=\"_blank\"><span style=\"color: #7f7f7f; text-decoration-color: #7f7f7f\">134</span></a>\n",
       "</pre>\n"
      ],
      "text/plain": [
       "\u001b[2;36m[06/12/24 13:06:04]\u001b[0m\u001b[2;36m \u001b[0m\u001b[34mINFO    \u001b[0m Kedro project breitong                                                 \u001b]8;id=391640;file://C:\\Users\\yair0\\anaconda3\\envs\\breitong\\lib\\site-packages\\kedro\\ipython\\__init__.py\u001b\\\u001b[2m__init__.py\u001b[0m\u001b]8;;\u001b\\\u001b[2m:\u001b[0m\u001b]8;id=619849;file://C:\\Users\\yair0\\anaconda3\\envs\\breitong\\lib\\site-packages\\kedro\\ipython\\__init__.py#134\u001b\\\u001b[2m134\u001b[0m\u001b]8;;\u001b\\\n"
      ]
     },
     "metadata": {},
     "output_type": "display_data"
    },
    {
     "data": {
      "text/html": [
       "<pre style=\"white-space:pre;overflow-x:auto;line-height:normal;font-family:Menlo,'DejaVu Sans Mono',consolas,'Courier New',monospace\"><span style=\"color: #7fbfbf; text-decoration-color: #7fbfbf\">                    </span><span style=\"color: #000080; text-decoration-color: #000080\">INFO    </span> Defined global variable <span style=\"color: #008000; text-decoration-color: #008000\">'context'</span>, <span style=\"color: #008000; text-decoration-color: #008000\">'session'</span>, <span style=\"color: #008000; text-decoration-color: #008000\">'catalog'</span> and            <a href=\"file://C:\\Users\\yair0\\anaconda3\\envs\\breitong\\lib\\site-packages\\kedro\\ipython\\__init__.py\" target=\"_blank\"><span style=\"color: #7f7f7f; text-decoration-color: #7f7f7f\">__init__.py</span></a><span style=\"color: #7f7f7f; text-decoration-color: #7f7f7f\">:</span><a href=\"file://C:\\Users\\yair0\\anaconda3\\envs\\breitong\\lib\\site-packages\\kedro\\ipython\\__init__.py#135\" target=\"_blank\"><span style=\"color: #7f7f7f; text-decoration-color: #7f7f7f\">135</span></a>\n",
       "<span style=\"color: #7fbfbf; text-decoration-color: #7fbfbf\">                    </span>         <span style=\"color: #008000; text-decoration-color: #008000\">'pipelines'</span>                                                            <span style=\"color: #7f7f7f; text-decoration-color: #7f7f7f\">               </span>\n",
       "</pre>\n"
      ],
      "text/plain": [
       "\u001b[2;36m                   \u001b[0m\u001b[2;36m \u001b[0m\u001b[34mINFO    \u001b[0m Defined global variable \u001b[32m'context'\u001b[0m, \u001b[32m'session'\u001b[0m, \u001b[32m'catalog'\u001b[0m and            \u001b]8;id=630174;file://C:\\Users\\yair0\\anaconda3\\envs\\breitong\\lib\\site-packages\\kedro\\ipython\\__init__.py\u001b\\\u001b[2m__init__.py\u001b[0m\u001b]8;;\u001b\\\u001b[2m:\u001b[0m\u001b]8;id=515035;file://C:\\Users\\yair0\\anaconda3\\envs\\breitong\\lib\\site-packages\\kedro\\ipython\\__init__.py#135\u001b\\\u001b[2m135\u001b[0m\u001b]8;;\u001b\\\n",
       "\u001b[2;36m                    \u001b[0m         \u001b[32m'pipelines'\u001b[0m                                                            \u001b[2m               \u001b[0m\n"
      ]
     },
     "metadata": {},
     "output_type": "display_data"
    },
    {
     "data": {
      "text/html": [
       "<pre style=\"white-space:pre;overflow-x:auto;line-height:normal;font-family:Menlo,'DejaVu Sans Mono',consolas,'Courier New',monospace\"><span style=\"color: #7fbfbf; text-decoration-color: #7fbfbf\">                    </span><span style=\"color: #000080; text-decoration-color: #000080\">INFO    </span> Registered line magic <span style=\"color: #008000; text-decoration-color: #008000\">'run_viz'</span>                                        <a href=\"file://C:\\Users\\yair0\\anaconda3\\envs\\breitong\\lib\\site-packages\\kedro\\ipython\\__init__.py\" target=\"_blank\"><span style=\"color: #7f7f7f; text-decoration-color: #7f7f7f\">__init__.py</span></a><span style=\"color: #7f7f7f; text-decoration-color: #7f7f7f\">:</span><a href=\"file://C:\\Users\\yair0\\anaconda3\\envs\\breitong\\lib\\site-packages\\kedro\\ipython\\__init__.py#141\" target=\"_blank\"><span style=\"color: #7f7f7f; text-decoration-color: #7f7f7f\">141</span></a>\n",
       "</pre>\n"
      ],
      "text/plain": [
       "\u001b[2;36m                   \u001b[0m\u001b[2;36m \u001b[0m\u001b[34mINFO    \u001b[0m Registered line magic \u001b[32m'run_viz'\u001b[0m                                        \u001b]8;id=600825;file://C:\\Users\\yair0\\anaconda3\\envs\\breitong\\lib\\site-packages\\kedro\\ipython\\__init__.py\u001b\\\u001b[2m__init__.py\u001b[0m\u001b]8;;\u001b\\\u001b[2m:\u001b[0m\u001b]8;id=30233;file://C:\\Users\\yair0\\anaconda3\\envs\\breitong\\lib\\site-packages\\kedro\\ipython\\__init__.py#141\u001b\\\u001b[2m141\u001b[0m\u001b]8;;\u001b\\\n"
      ]
     },
     "metadata": {},
     "output_type": "display_data"
    }
   ],
   "source": [
    "%reload_kedro\n",
    "import pandas as pd\n",
    "pd.set_option('display.max_columns', None)\n",
    "from vaderSentiment.vaderSentiment import SentimentIntensityAnalyzer\n",
    "from joblib import Parallel, delayed\n",
    "\n",
    "from tqdm import tqdm"
   ]
  },
  {
   "cell_type": "code",
   "execution_count": 27,
   "metadata": {},
   "outputs": [],
   "source": [
    "import pandas as pd\n",
    "\n",
    "def remove_high_null_columns(df: pd.DataFrame, threshold: float = 0.5) -> pd.DataFrame:\n",
    "    \"\"\"\n",
    "    Remove columns from a DataFrame that have more than a specified threshold of null values.\n",
    "\n",
    "    Parameters:\n",
    "    df (pd.DataFrame): The input DataFrame.\n",
    "    threshold (float): The threshold for the percentage of null values. Columns with a percentage of null values greater than this threshold will be removed. Default is 0.5 (50%).\n",
    "\n",
    "    Returns:\n",
    "    pd.DataFrame: The DataFrame with columns removed that had more than the specified threshold of null values.\n",
    "    \"\"\"\n",
    "    # Calculate the percentage of null values for each column\n",
    "    null_percentage = df.isnull().mean()\n",
    "    # Filter out columns that have more than the specified threshold of null values\n",
    "    columns_to_keep = null_percentage[null_percentage <= threshold].index\n",
    "    # Return the DataFrame with the selected columns\n",
    "    return df[columns_to_keep]\n"
   ]
  },
  {
   "cell_type": "code",
   "execution_count": 28,
   "metadata": {},
   "outputs": [
    {
     "data": {
      "text/html": [
       "<pre style=\"white-space:pre;overflow-x:auto;line-height:normal;font-family:Menlo,'DejaVu Sans Mono',consolas,'Courier New',monospace\"><span style=\"color: #7fbfbf; text-decoration-color: #7fbfbf\">[06/12/24 13:06:15] </span><span style=\"color: #000080; text-decoration-color: #000080\">INFO    </span> Loading data from <span style=\"color: #ff8700; text-decoration-color: #ff8700\">champions</span> <span style=\"font-weight: bold\">(</span>ExcelDataset<span style=\"font-weight: bold\">)</span><span style=\"color: #808000; text-decoration-color: #808000\">...</span>                      <a href=\"file://C:\\Users\\yair0\\anaconda3\\envs\\breitong\\lib\\site-packages\\kedro\\io\\data_catalog.py\" target=\"_blank\"><span style=\"color: #7f7f7f; text-decoration-color: #7f7f7f\">data_catalog.py</span></a><span style=\"color: #7f7f7f; text-decoration-color: #7f7f7f\">:</span><a href=\"file://C:\\Users\\yair0\\anaconda3\\envs\\breitong\\lib\\site-packages\\kedro\\io\\data_catalog.py#483\" target=\"_blank\"><span style=\"color: #7f7f7f; text-decoration-color: #7f7f7f\">483</span></a>\n",
       "</pre>\n"
      ],
      "text/plain": [
       "\u001b[2;36m[06/12/24 13:06:15]\u001b[0m\u001b[2;36m \u001b[0m\u001b[34mINFO    \u001b[0m Loading data from \u001b[38;5;208mchampions\u001b[0m \u001b[1m(\u001b[0mExcelDataset\u001b[1m)\u001b[0m\u001b[33m...\u001b[0m                      \u001b]8;id=680957;file://C:\\Users\\yair0\\anaconda3\\envs\\breitong\\lib\\site-packages\\kedro\\io\\data_catalog.py\u001b\\\u001b[2mdata_catalog.py\u001b[0m\u001b]8;;\u001b\\\u001b[2m:\u001b[0m\u001b]8;id=734661;file://C:\\Users\\yair0\\anaconda3\\envs\\breitong\\lib\\site-packages\\kedro\\io\\data_catalog.py#483\u001b\\\u001b[2m483\u001b[0m\u001b]8;;\u001b\\\n"
      ]
     },
     "metadata": {},
     "output_type": "display_data"
    },
    {
     "data": {
      "text/html": [
       "<pre style=\"white-space:pre;overflow-x:auto;line-height:normal;font-family:Menlo,'DejaVu Sans Mono',consolas,'Courier New',monospace\"><span style=\"color: #7fbfbf; text-decoration-color: #7fbfbf\">                    </span><span style=\"color: #000080; text-decoration-color: #000080\">INFO    </span> Loading data from <span style=\"color: #ff8700; text-decoration-color: #ff8700\">grades_2023</span> <span style=\"font-weight: bold\">(</span>ExcelDataset<span style=\"font-weight: bold\">)</span><span style=\"color: #808000; text-decoration-color: #808000\">...</span>                    <a href=\"file://C:\\Users\\yair0\\anaconda3\\envs\\breitong\\lib\\site-packages\\kedro\\io\\data_catalog.py\" target=\"_blank\"><span style=\"color: #7f7f7f; text-decoration-color: #7f7f7f\">data_catalog.py</span></a><span style=\"color: #7f7f7f; text-decoration-color: #7f7f7f\">:</span><a href=\"file://C:\\Users\\yair0\\anaconda3\\envs\\breitong\\lib\\site-packages\\kedro\\io\\data_catalog.py#483\" target=\"_blank\"><span style=\"color: #7f7f7f; text-decoration-color: #7f7f7f\">483</span></a>\n",
       "</pre>\n"
      ],
      "text/plain": [
       "\u001b[2;36m                   \u001b[0m\u001b[2;36m \u001b[0m\u001b[34mINFO    \u001b[0m Loading data from \u001b[38;5;208mgrades_2023\u001b[0m \u001b[1m(\u001b[0mExcelDataset\u001b[1m)\u001b[0m\u001b[33m...\u001b[0m                    \u001b]8;id=104503;file://C:\\Users\\yair0\\anaconda3\\envs\\breitong\\lib\\site-packages\\kedro\\io\\data_catalog.py\u001b\\\u001b[2mdata_catalog.py\u001b[0m\u001b]8;;\u001b\\\u001b[2m:\u001b[0m\u001b]8;id=471777;file://C:\\Users\\yair0\\anaconda3\\envs\\breitong\\lib\\site-packages\\kedro\\io\\data_catalog.py#483\u001b\\\u001b[2m483\u001b[0m\u001b]8;;\u001b\\\n"
      ]
     },
     "metadata": {},
     "output_type": "display_data"
    },
    {
     "data": {
      "text/html": [
       "<pre style=\"white-space:pre;overflow-x:auto;line-height:normal;font-family:Menlo,'DejaVu Sans Mono',consolas,'Courier New',monospace\"><span style=\"color: #7fbfbf; text-decoration-color: #7fbfbf\">[06/12/24 13:06:16] </span><span style=\"color: #000080; text-decoration-color: #000080\">INFO    </span> Loading data from <span style=\"color: #ff8700; text-decoration-color: #ff8700\">questionnaire</span> <span style=\"font-weight: bold\">(</span>ExcelDataset<span style=\"font-weight: bold\">)</span><span style=\"color: #808000; text-decoration-color: #808000\">...</span>                  <a href=\"file://C:\\Users\\yair0\\anaconda3\\envs\\breitong\\lib\\site-packages\\kedro\\io\\data_catalog.py\" target=\"_blank\"><span style=\"color: #7f7f7f; text-decoration-color: #7f7f7f\">data_catalog.py</span></a><span style=\"color: #7f7f7f; text-decoration-color: #7f7f7f\">:</span><a href=\"file://C:\\Users\\yair0\\anaconda3\\envs\\breitong\\lib\\site-packages\\kedro\\io\\data_catalog.py#483\" target=\"_blank\"><span style=\"color: #7f7f7f; text-decoration-color: #7f7f7f\">483</span></a>\n",
       "</pre>\n"
      ],
      "text/plain": [
       "\u001b[2;36m[06/12/24 13:06:16]\u001b[0m\u001b[2;36m \u001b[0m\u001b[34mINFO    \u001b[0m Loading data from \u001b[38;5;208mquestionnaire\u001b[0m \u001b[1m(\u001b[0mExcelDataset\u001b[1m)\u001b[0m\u001b[33m...\u001b[0m                  \u001b]8;id=57538;file://C:\\Users\\yair0\\anaconda3\\envs\\breitong\\lib\\site-packages\\kedro\\io\\data_catalog.py\u001b\\\u001b[2mdata_catalog.py\u001b[0m\u001b]8;;\u001b\\\u001b[2m:\u001b[0m\u001b]8;id=129904;file://C:\\Users\\yair0\\anaconda3\\envs\\breitong\\lib\\site-packages\\kedro\\io\\data_catalog.py#483\u001b\\\u001b[2m483\u001b[0m\u001b]8;;\u001b\\\n"
      ]
     },
     "metadata": {},
     "output_type": "display_data"
    },
    {
     "data": {
      "text/html": [
       "<pre style=\"white-space:pre;overflow-x:auto;line-height:normal;font-family:Menlo,'DejaVu Sans Mono',consolas,'Courier New',monospace\"><span style=\"color: #7fbfbf; text-decoration-color: #7fbfbf\">[06/12/24 13:06:17] </span><span style=\"color: #000080; text-decoration-color: #000080\">INFO    </span> Loading data from <span style=\"color: #ff8700; text-decoration-color: #ff8700\">leadership</span> <span style=\"font-weight: bold\">(</span>ExcelDataset<span style=\"font-weight: bold\">)</span><span style=\"color: #808000; text-decoration-color: #808000\">...</span>                     <a href=\"file://C:\\Users\\yair0\\anaconda3\\envs\\breitong\\lib\\site-packages\\kedro\\io\\data_catalog.py\" target=\"_blank\"><span style=\"color: #7f7f7f; text-decoration-color: #7f7f7f\">data_catalog.py</span></a><span style=\"color: #7f7f7f; text-decoration-color: #7f7f7f\">:</span><a href=\"file://C:\\Users\\yair0\\anaconda3\\envs\\breitong\\lib\\site-packages\\kedro\\io\\data_catalog.py#483\" target=\"_blank\"><span style=\"color: #7f7f7f; text-decoration-color: #7f7f7f\">483</span></a>\n",
       "</pre>\n"
      ],
      "text/plain": [
       "\u001b[2;36m[06/12/24 13:06:17]\u001b[0m\u001b[2;36m \u001b[0m\u001b[34mINFO    \u001b[0m Loading data from \u001b[38;5;208mleadership\u001b[0m \u001b[1m(\u001b[0mExcelDataset\u001b[1m)\u001b[0m\u001b[33m...\u001b[0m                     \u001b]8;id=151604;file://C:\\Users\\yair0\\anaconda3\\envs\\breitong\\lib\\site-packages\\kedro\\io\\data_catalog.py\u001b\\\u001b[2mdata_catalog.py\u001b[0m\u001b]8;;\u001b\\\u001b[2m:\u001b[0m\u001b]8;id=383181;file://C:\\Users\\yair0\\anaconda3\\envs\\breitong\\lib\\site-packages\\kedro\\io\\data_catalog.py#483\u001b\\\u001b[2m483\u001b[0m\u001b]8;;\u001b\\\n"
      ]
     },
     "metadata": {},
     "output_type": "display_data"
    },
    {
     "data": {
      "text/html": [
       "<pre style=\"white-space:pre;overflow-x:auto;line-height:normal;font-family:Menlo,'DejaVu Sans Mono',consolas,'Courier New',monospace\"><span style=\"color: #7fbfbf; text-decoration-color: #7fbfbf\">                    </span><span style=\"color: #000080; text-decoration-color: #000080\">INFO    </span> Loading data from <span style=\"color: #ff8700; text-decoration-color: #ff8700\">primary_psycho</span> <span style=\"font-weight: bold\">(</span>ExcelDataset<span style=\"font-weight: bold\">)</span><span style=\"color: #808000; text-decoration-color: #808000\">...</span>                 <a href=\"file://C:\\Users\\yair0\\anaconda3\\envs\\breitong\\lib\\site-packages\\kedro\\io\\data_catalog.py\" target=\"_blank\"><span style=\"color: #7f7f7f; text-decoration-color: #7f7f7f\">data_catalog.py</span></a><span style=\"color: #7f7f7f; text-decoration-color: #7f7f7f\">:</span><a href=\"file://C:\\Users\\yair0\\anaconda3\\envs\\breitong\\lib\\site-packages\\kedro\\io\\data_catalog.py#483\" target=\"_blank\"><span style=\"color: #7f7f7f; text-decoration-color: #7f7f7f\">483</span></a>\n",
       "</pre>\n"
      ],
      "text/plain": [
       "\u001b[2;36m                   \u001b[0m\u001b[2;36m \u001b[0m\u001b[34mINFO    \u001b[0m Loading data from \u001b[38;5;208mprimary_psycho\u001b[0m \u001b[1m(\u001b[0mExcelDataset\u001b[1m)\u001b[0m\u001b[33m...\u001b[0m                 \u001b]8;id=928307;file://C:\\Users\\yair0\\anaconda3\\envs\\breitong\\lib\\site-packages\\kedro\\io\\data_catalog.py\u001b\\\u001b[2mdata_catalog.py\u001b[0m\u001b]8;;\u001b\\\u001b[2m:\u001b[0m\u001b]8;id=795189;file://C:\\Users\\yair0\\anaconda3\\envs\\breitong\\lib\\site-packages\\kedro\\io\\data_catalog.py#483\u001b\\\u001b[2m483\u001b[0m\u001b]8;;\u001b\\\n"
      ]
     },
     "metadata": {},
     "output_type": "display_data"
    },
    {
     "data": {
      "text/html": [
       "<pre style=\"white-space:pre;overflow-x:auto;line-height:normal;font-family:Menlo,'DejaVu Sans Mono',consolas,'Courier New',monospace\"><span style=\"color: #7fbfbf; text-decoration-color: #7fbfbf\">[06/12/24 13:06:18] </span><span style=\"color: #000080; text-decoration-color: #000080\">INFO    </span> Loading data from <span style=\"color: #ff8700; text-decoration-color: #ff8700\">secondary_psycho</span> <span style=\"font-weight: bold\">(</span>ExcelDataset<span style=\"font-weight: bold\">)</span><span style=\"color: #808000; text-decoration-color: #808000\">...</span>               <a href=\"file://C:\\Users\\yair0\\anaconda3\\envs\\breitong\\lib\\site-packages\\kedro\\io\\data_catalog.py\" target=\"_blank\"><span style=\"color: #7f7f7f; text-decoration-color: #7f7f7f\">data_catalog.py</span></a><span style=\"color: #7f7f7f; text-decoration-color: #7f7f7f\">:</span><a href=\"file://C:\\Users\\yair0\\anaconda3\\envs\\breitong\\lib\\site-packages\\kedro\\io\\data_catalog.py#483\" target=\"_blank\"><span style=\"color: #7f7f7f; text-decoration-color: #7f7f7f\">483</span></a>\n",
       "</pre>\n"
      ],
      "text/plain": [
       "\u001b[2;36m[06/12/24 13:06:18]\u001b[0m\u001b[2;36m \u001b[0m\u001b[34mINFO    \u001b[0m Loading data from \u001b[38;5;208msecondary_psycho\u001b[0m \u001b[1m(\u001b[0mExcelDataset\u001b[1m)\u001b[0m\u001b[33m...\u001b[0m               \u001b]8;id=782801;file://C:\\Users\\yair0\\anaconda3\\envs\\breitong\\lib\\site-packages\\kedro\\io\\data_catalog.py\u001b\\\u001b[2mdata_catalog.py\u001b[0m\u001b]8;;\u001b\\\u001b[2m:\u001b[0m\u001b]8;id=911765;file://C:\\Users\\yair0\\anaconda3\\envs\\breitong\\lib\\site-packages\\kedro\\io\\data_catalog.py#483\u001b\\\u001b[2m483\u001b[0m\u001b]8;;\u001b\\\n"
      ]
     },
     "metadata": {},
     "output_type": "display_data"
    }
   ],
   "source": [
    "df_champs = catalog.load(\"champions\")\n",
    "df_grades_2023 = catalog.load(\"grades_2023\")\n",
    "df_questionnaires = catalog.load(\"questionnaire\")\n",
    "df_leadership = catalog.load(\"leadership\")\n",
    "df_primary_psycho = catalog.load(\"primary_psycho\")\n",
    "df_secondary_psycho = catalog.load(\"secondary_psycho\")\n"
   ]
  },
  {
   "cell_type": "markdown",
   "metadata": {},
   "source": [
    "### Parse Cuestionario"
   ]
  },
  {
   "cell_type": "code",
   "execution_count": 20,
   "metadata": {},
   "outputs": [],
   "source": [
    "def get_sentiment_score(text, analyzer):\n",
    "    try:\n",
    "        return analyzer.polarity_scores(text)['compound']\n",
    "    except Exception as e:\n",
    "        return 0.0\n",
    "\n",
    "def get_sentiment(col: pd.Series, analyzer: SentimentIntensityAnalyzer, n_jobs=-1):\n",
    "    \"\"\"\n",
    "    Get sentiment score for a given text series using parallel processing\n",
    "    \"\"\"\n",
    "    sentiment_scores = Parallel(n_jobs=n_jobs)(delayed(get_sentiment_score)(text, analyzer) for text in col)\n",
    "    return pd.Series(sentiment_scores, index=col.index)"
   ]
  },
  {
   "cell_type": "code",
   "execution_count": null,
   "metadata": {},
   "outputs": [],
   "source": [
    "df_questionnaires_final = remove_high_null_columns(df_questionnaires)\n",
    "analyzer = SentimentIntensityAnalyzer()\n",
    "cols_to_sentiment = [\n",
    "    'Champ para talleres virtuales se puede conectar de',\n",
    "    '¿Qué tema te interesa Champ?',\n",
    "    '¿Con quienes vives?  \\nPor ejemplo: Con mi padres y hermanos',\n",
    "    '¿Cuáles son tus pasatiempos favoritos?  Por ejemplo: Leer y jugar videojuegos',\n",
    "    '¿Cuáles son tus cursos favoritos? \\nPor ejemplo: Matemática y Comunicación',\n",
    "    '¿Cuál es tu deporte favorito? \\nPor ejemplo: Fútbol',\n",
    "    '¿Qué te gustaría estudiar o ser de grande? \\nPor ejemplo: Doctor',\n",
    "    '¿Qué te gustaría hacer para mejorar el Perú?',\n",
    "    '¿Te gustaría estudiar en una universidad extranjera?',\n",
    "    'Cuéntanos si ganaste un reconocimiento, concurso, beca, tienes una organización o has sido voluntario/a en el 2023',\n",
    "    'En Perú Champs nos preocupa tu bienestar. ¿Hay algo que quieras compartirnos sobre algo que fue difícil en el 2023, algo que te hiciera sentir triste o frustrado/a? Este espacio es confidencial y no afecta tu beca',\n",
    "    '¿Tiene otro champ?', 'DNI DEL APODERADO ENCRIPTADO',\n",
    "    'Qué relación tiene con Champ',\n",
    "    'Su Champ tiene un apoderada/o adicional a Usted',\n",
    "    '¿Tienes un negocio propio o emprendimiento?',\n",
    "    'La conexión a Internet en su casa es', 'Tu internet es',\n",
    "    '¿Algún familiar con el que viva tiene alguna condición, discapacidad o enfermedad crónica que requiera de cuidados constante?',\n",
    "    'Cuéntanos brevemente cómo se encuentran actualmente',\n",
    "    '¿Quién apoya a su Champ con sus tareas?'\n",
    "    ]\n",
    "\n",
    "for col in cols_to_sentiment:\n",
    "    df_questionnaires_final[col + \"_sentiment\"] = get_sentiment(df_questionnaires_final[col].astype(str), analyzer)\n",
    "    print(col + \" done\")\n",
    "\n",
    "df_questionnaires_final\n"
   ]
  },
  {
   "cell_type": "code",
   "execution_count": 31,
   "metadata": {},
   "outputs": [],
   "source": [
    "df_questionnaires_final.to_csv(\"data/01_raw/df_questionnaires_sense.csv\", index=False)"
   ]
  },
  {
   "cell_type": "code",
   "execution_count": 32,
   "metadata": {},
   "outputs": [
    {
     "data": {
      "text/html": [
       "<pre style=\"white-space:pre;overflow-x:auto;line-height:normal;font-family:Menlo,'DejaVu Sans Mono',consolas,'Courier New',monospace\"></pre>\n"
      ],
      "text/plain": []
     },
     "metadata": {},
     "output_type": "display_data"
    },
    {
     "data": {
      "text/plain": [
       "\n",
       "\u001b[1;35mIndex\u001b[0m\u001b[1m(\u001b[0m\u001b[1m[\u001b[0m\u001b[32m'DNI ENCRIPTADO'\u001b[0m, \u001b[32m'ESTADO'\u001b[0m, \u001b[32m'NRE \u001b[0m\u001b[32m(\u001b[0m\u001b[32mNIVEL DE RIESGO EMOCIONAL\u001b[0m\u001b[32m)\u001b[0m\u001b[32m'\u001b[0m,\n",
       "       \u001b[32m'CANTERA'\u001b[0m, \u001b[32m'AÑO DE INGRESO'\u001b[0m, \u001b[32m'REGIÓN'\u001b[0m, \u001b[32m'SEDE'\u001b[0m, \u001b[32m'SEXO'\u001b[0m, \u001b[32m'GRADO'\u001b[0m,\n",
       "       \u001b[32m'FECHA NACIMIENTO'\u001b[0m, \u001b[32m'EDAD'\u001b[0m, \u001b[32m'CONDICIÓN DE SALUD'\u001b[0m,\n",
       "       \u001b[32m'¿Qué tema te interesa Champ?'\u001b[0m,\n",
       "       \u001b[32m'¿Con quienes vives?  \\nPor ejemplo: Con mi padres y hermanos'\u001b[0m,\n",
       "       \u001b[32m'¿Cuáles son tus pasatiempos favoritos?  Por ejemplo: Leer y jugar videojuegos'\u001b[0m,\n",
       "       \u001b[32m'¿Cuáles son tus cursos favoritos? \\nPor ejemplo: Matemática y Comunicación'\u001b[0m,\n",
       "       \u001b[32m'¿Cuál es tu deporte favorito? \\nPor ejemplo: Fútbol'\u001b[0m,\n",
       "       \u001b[32m'¿Qué te gustaría estudiar o ser de grande? \\nPor ejemplo: Doctor'\u001b[0m,\n",
       "       \u001b[32m'¿Qué te gustaría hacer para mejorar el Perú?'\u001b[0m,\n",
       "       \u001b[32m'¿Te gustaría estudiar en una universidad extranjera?'\u001b[0m,\n",
       "       \u001b[32m'Cuéntanos si ganaste un reconocimiento, concurso, beca, tienes una organización o has sido voluntario/a en el 2023'\u001b[0m,\n",
       "       \u001b[32m'En Perú Champs nos preocupa tu bienestar. ¿Hay algo que quieras compartirnos sobre algo que fue difícil en el 2023, algo que te hiciera sentir triste o frustrado/a? Este espacio es confidencial y no afecta tu beca'\u001b[0m\u001b[1m]\u001b[0m,\n",
       "      \u001b[33mdtype\u001b[0m=\u001b[32m'object'\u001b[0m\u001b[1m)\u001b[0m"
      ]
     },
     "execution_count": 32,
     "metadata": {},
     "output_type": "execute_result"
    }
   ],
   "source": [
    "df_leadership_final = remove_high_null_columns(df_leadership)\n",
    "analyzer = SentimentIntensityAnalyzer()\n",
    "cols_to_sentiment = [\n",
    "    '¿Qué tema te interesa Champ?',\n",
    "    '¿Con quienes vives?  \\nPor ejemplo: Con mi padres y hermanos',\n",
    "    '¿Cuáles son tus pasatiempos favoritos?  Por ejemplo: Leer y jugar videojuegos',\n",
    "    '¿Cuáles son tus cursos favoritos? \\nPor ejemplo: Matemática y Comunicación',\n",
    "    '¿Cuál es tu deporte favorito? \\nPor ejemplo: Fútbol',\n",
    "    '¿Qué te gustaría estudiar o ser de grande? \\nPor ejemplo: Doctor',\n",
    "    '¿Qué te gustaría hacer para mejorar el Perú?',\n",
    "    '¿Te gustaría estudiar en una universidad extranjera?',\n",
    "    'Cuéntanos si ganaste un reconocimiento, concurso, beca, tienes una organización o has sido voluntario/a en el 2023',\n",
    "    'En Perú Champs nos preocupa tu bienestar. ¿Hay algo que quieras compartirnos sobre algo que fue difícil en el 2023, algo que te hiciera sentir triste o frustrado/a? Este espacio es confidencial y no afecta tu beca'\n",
    "    ]\n",
    "\n",
    "for col in cols_to_sentiment:\n",
    "    df_leadership_final[col + \"_sentiment\"] = get_sentiment(df_leadership_final[col].astype(str), analyzer)\n",
    "    print(col + \" done\")\n",
    "\n",
    "\n",
    "df_leadership_final.to_csv(\"data/01_raw/df_leadership_sense.csv\", index=False)\n",
    "df_leadership_final.columns"
   ]
  }
 ],
 "metadata": {
  "kernelspec": {
   "display_name": "Kedro (breitong)",
   "language": "python",
   "name": "kedro_breitong"
  },
  "language_info": {
   "codemirror_mode": {
    "name": "ipython",
    "version": 3
   },
   "file_extension": ".py",
   "mimetype": "text/x-python",
   "name": "python",
   "nbconvert_exporter": "python",
   "pygments_lexer": "ipython3",
   "version": "3.9.5"
  }
 },
 "nbformat": 4,
 "nbformat_minor": 2
}
