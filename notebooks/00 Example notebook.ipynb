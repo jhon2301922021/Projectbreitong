{
 "cells": [
  {
   "cell_type": "code",
   "execution_count": null,
   "metadata": {},
   "outputs": [],
   "source": [
    "%reload_kedro"
   ]
  },
  {
   "cell_type": "code",
   "execution_count": null,
   "metadata": {},
   "outputs": [],
   "source": [
    "import pandas as pd\n",
    "from ydata_profiling import ProfileReport"
   ]
  },
  {
   "cell_type": "code",
   "execution_count": null,
   "metadata": {},
   "outputs": [],
   "source": [
    "list_df = [\n",
    "  catalog.load(\"grades_2023\"),\n",
    "  catalog.load(\"grades_2022\"),\n",
    "  catalog.load(\"grades_2021\"),\n",
    "  # catalog.load(\"grades_2020\"),\n",
    "  catalog.load(\"grades_2019\"),\n",
    "  catalog.load(\"grades_2018\")\n",
    "  ]\n",
    "\n",
    "df_original = pd.concat(list_df)\n",
    "df_original"
   ]
  },
  {
   "cell_type": "code",
   "execution_count": null,
   "metadata": {},
   "outputs": [],
   "source": [
    "def clean_string_columns(df: pd.DataFrame) -> pd.DataFrame:\n",
    "    \"\"\"\n",
    "    Convert all string values in a pandas DataFrame to lowercase, strip leading/trailing spaces, \n",
    "    and replace spaces with underscores. Ignores non-string values.\n",
    "\n",
    "    Parameters:\n",
    "        df (pd.DataFrame): The input DataFrame to clean.\n",
    "\n",
    "    Returns:\n",
    "        pd.DataFrame: The modified DataFrame with cleaned string columns.\n",
    "    \"\"\"\n",
    "    def clean_value(value):\n",
    "        if isinstance(value, str):\n",
    "            return value.lower().strip().replace(\" \", \"_\")\n",
    "        return value\n",
    "\n",
    "    return df.applymap(clean_value)"
   ]
  },
  {
   "cell_type": "code",
   "execution_count": null,
   "metadata": {},
   "outputs": [],
   "source": [
    "cols = df_original.columns.tolist()\n",
    "cols = [x.lower().strip().replace(\" \",\"_\") for x in cols]\n",
    "df_final = df_original.copy()\n",
    "df_final.columns = cols\n",
    "df_final = clean_string_columns(df_final)\n",
    "df_final"
   ]
  },
  {
   "cell_type": "code",
   "execution_count": null,
   "metadata": {},
   "outputs": [],
   "source": [
    "profile = ProfileReport(df_final, title=\"Profiling Report\")\n",
    "profile.to_file(\"data/08_reports/eda.html\")"
   ]
  },
  {
   "cell_type": "code",
   "execution_count": null,
   "metadata": {},
   "outputs": [],
   "source": []
  }
 ],
 "metadata": {
  "kernelspec": {
   "display_name": "Kedro (breitong)",
   "language": "python",
   "name": "kedro_breitong"
  },
  "language_info": {
   "codemirror_mode": {
    "name": "ipython",
    "version": 3
   },
   "file_extension": ".py",
   "mimetype": "text/x-python",
   "name": "python",
   "nbconvert_exporter": "python",
   "pygments_lexer": "ipython3",
   "version": "3.9.5"
  }
 },
 "nbformat": 4,
 "nbformat_minor": 2
}
