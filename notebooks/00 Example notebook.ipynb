{
 "cells": [
  {
   "cell_type": "code",
   "execution_count": null,
   "metadata": {},
   "outputs": [],
   "source": [
    "%reload_kedro"
   ]
  },
  {
   "cell_type": "code",
   "execution_count": null,
   "metadata": {},
   "outputs": [],
   "source": [
    "!pip install shutup"
   ]
  },
  {
   "cell_type": "code",
   "execution_count": null,
   "metadata": {},
   "outputs": [],
   "source": [
    "import pandas as pd\n",
    "from ydata_profiling import ProfileReport\n",
    "import matplotlib.pyplot as plt\n",
    "import seaborn as sns\n",
    "import plotly.express as px\n",
    "import shutup\n",
    "shutup.please()"
   ]
  },
  {
   "cell_type": "code",
   "execution_count": null,
   "metadata": {},
   "outputs": [],
   "source": [
    "dict_df = {\n",
    "  \"2023\":catalog.load(\"grades_2023\"),\n",
    "  # \"2022\":catalog.load(\"grades_2022\"),\n",
    "  \"2021\":catalog.load(\"grades_2021\"),\n",
    "  # \"\":catalog.load(\"grades_2020\"),\n",
    "  \"2019\":catalog.load(\"grades_2019\"),\n",
    "  \"2018\":catalog.load(\"grades_2018\")\n",
    "}\n",
    "\n",
    "for k, df in dict_df.items():\n",
    "  df[\"year\"] = k\n",
    "\n",
    "df_original = pd.concat(dict_df.values()).reset_index(drop=True)\n",
    "df_original"
   ]
  },
  {
   "cell_type": "code",
   "execution_count": null,
   "metadata": {},
   "outputs": [],
   "source": [
    "def clean_string_columns(df: pd.DataFrame) -> pd.DataFrame:\n",
    "    \"\"\"\n",
    "    Convert all string values in a pandas DataFrame to lowercase, strip leading/trailing spaces, \n",
    "    and replace spaces with underscores. Ignores non-string values.\n",
    "\n",
    "    Parameters:\n",
    "        df (pd.DataFrame): The input DataFrame to clean.\n",
    "\n",
    "    Returns:\n",
    "        pd.DataFrame: The modified DataFrame with cleaned string columns.\n",
    "    \"\"\"\n",
    "    def clean_value(value):\n",
    "        if isinstance(value, str):\n",
    "            return value.lower().strip().replace(\" \", \"_\")\n",
    "        return value\n",
    "\n",
    "    return df.applymap(clean_value)"
   ]
  },
  {
   "cell_type": "code",
   "execution_count": null,
   "metadata": {},
   "outputs": [],
   "source": [
    "grade_map = {\n",
    "    'primero': 1,\n",
    "    'segundo': 2,\n",
    "    'tercero': 3,\n",
    "    'cuarto': 4,\n",
    "    'quinto': 5,\n",
    "    'sexto': 6,\n",
    "    'séptimo': 7,\n",
    "    'octavo': 8,\n",
    "    'noveno': 9,\n",
    "    'décimo': 10,\n",
    "    'undécimo': 11\n",
    "}\n",
    "\n",
    "nra_map = {\n",
    "  'bajo': 0,\n",
    "  'medio': 1,\n",
    "  'alto': 2\n",
    "}\n",
    "\n",
    "cols = df_original.columns.tolist()\n",
    "cols = [x.lower().strip().replace(\" \",\"_\") for x in cols]\n",
    "df_final = df_original.copy()\n",
    "df_final.columns = cols\n",
    "df_final = clean_string_columns(df_final)\n",
    "df_final[\"cantera\"] = df_final[\"cantera\"].replace(\"académica\", \"academica\")\n",
    "df_final[\"nra_encoded\"] = df_final['nra'].map(nra_map)\n",
    "df_final[\"grade_encoded\"] = df_final['grado'].map(grade_map)\n",
    "df_final[\"cantera_encoded\"] = 0\n",
    "df_final.loc[df_final[\"cantera\"]==\"academica\", \"cantera_encoded\"]=1\n",
    "df_final"
   ]
  },
  {
   "cell_type": "code",
   "execution_count": null,
   "metadata": {},
   "outputs": [],
   "source": [
    "\"\"\" Target \"\"\"\n",
    "\n",
    "print(\"Distribucion del\",df_final[\"nra\"].value_counts())\n",
    "\n",
    "df_final[\"nra\"].hist()\n",
    "\n"
   ]
  },
  {
   "cell_type": "code",
   "execution_count": null,
   "metadata": {},
   "outputs": [],
   "source": [
    "# profile = ProfileReport(df_final, title=\"Profiling Report\")\n",
    "# profile.to_file(\"../data/08_reports/eda.html\")"
   ]
  },
  {
   "cell_type": "code",
   "execution_count": null,
   "metadata": {},
   "outputs": [],
   "source": [
    "import numpy as np\n",
    "from sklearn.cluster import KMeans\n",
    "from sklearn.preprocessing import StandardScaler\n",
    "\n",
    "courses = ['matemática', 'comunicación', 'inglés', 'ciencias', 'dpsc', 'educación_física', 'arte', 'conducta']\n",
    "\n",
    "scaler = StandardScaler()\n",
    "df_scaled = scaler.fit_transform(df_final[courses])\n",
    "sse = {}\n",
    "for k in range(1, 11):  # Probar con diferentes números de clusters, por ejemplo, de 1 a 10\n",
    "    kmeans = KMeans(n_clusters=k, random_state=42)\n",
    "    kmeans.fit(df_scaled)\n",
    "    sse[k] = kmeans.inertia_  # Suma de errores cuadráticos\n",
    "\n",
    "# Graficar el método del codo\n",
    "plt.figure(figsize=(10, 6))\n",
    "plt.plot(list(sse.keys()), list(sse.values()), 'bx-')\n",
    "plt.xlabel('Número de clusters')\n",
    "plt.ylabel('SSE')\n",
    "plt.title('Método del Codo')\n",
    "plt.show()\n",
    "\n",
    "optimal_k = 4 # Esto es solo un ejemplo, debes elegir el número después de ver el gráfico\n",
    "\n",
    "# Ejecutar KMeans con el número óptimo de clusters\n",
    "kmeans = KMeans(n_clusters=optimal_k, random_state=42)\n",
    "df_final['cluster'] = kmeans.fit_predict(df_scaled)\n",
    "\n"
   ]
  },
  {
   "cell_type": "code",
   "execution_count": null,
   "metadata": {},
   "outputs": [],
   "source": [
    "fig = px.parallel_coordinates(df_final[courses+[\"promedio\",\"nra_encoded\", \"cluster\"]], color=\"promedio\")\n",
    "fig.show()"
   ]
  },
  {
   "cell_type": "code",
   "execution_count": null,
   "metadata": {},
   "outputs": [],
   "source": [
    "_df = round(df_final[courses+[\"promedio\",\"nra_encoded\", \"cluster\"]].corr()*100)\n",
    "fig = px.imshow(_df,\n",
    "                text_auto=True,  # Muestra los valores de correlación\n",
    "                labels=dict(x=\"Variables\", y=\"Variables\", color=\"Correlación\"),\n",
    "                x=_df.columns,\n",
    "                y=_df.columns,\n",
    "                color_continuous_scale='RdBu_r',  # Escala de color para la correlación\n",
    "                )\n",
    "\n",
    "# Ajustes visuales adicionales\n",
    "fig.update_layout(title='Mapa de Calor de la Matriz de Correlación',\n",
    "                  width=1000, height=1000)\n",
    "\n",
    "# Mostrar el gráfico\n",
    "fig.show()"
   ]
  },
  {
   "cell_type": "code",
   "execution_count": null,
   "metadata": {},
   "outputs": [],
   "source": [
    "\"\"\" Variable cantera con distribucion dispareja \"\"\"\n",
    "df_final[\"cantera\"].value_counts()"
   ]
  },
  {
   "cell_type": "code",
   "execution_count": null,
   "metadata": {},
   "outputs": [],
   "source": [
    "\"\"\" Variable sede no utilizable hasta corregir la data \"\"\"\n",
    "df_final[\"grado\"].value_counts()"
   ]
  },
  {
   "cell_type": "code",
   "execution_count": null,
   "metadata": {},
   "outputs": [],
   "source": []
  },
  {
   "cell_type": "code",
   "execution_count": null,
   "metadata": {},
   "outputs": [],
   "source": [
    "for cantera in df_final[\"cantera\"].unique():\n",
    "  sub_df = df_final[df_final[\"cantera\"] == cantera]\n",
    "  axes = sub_df.hist(grid=False, figsize=(10, 8), bins=20, color='skyblue')\n",
    "  plt.suptitle(f'Cantera {cantera} - Alumnos: {sub_df.shape[0]}')  # Añadir un título general a toda la figura\n",
    "  plt.show()\n"
   ]
  },
  {
   "cell_type": "code",
   "execution_count": null,
   "metadata": {},
   "outputs": [],
   "source": []
  }
 ],
 "metadata": {
  "kernelspec": {
   "display_name": "Kedro (breitong)",
   "language": "python",
   "name": "kedro_breitong"
  },
  "language_info": {
   "codemirror_mode": {
    "name": "ipython",
    "version": 3
   },
   "file_extension": ".py",
   "mimetype": "text/x-python",
   "name": "python",
   "nbconvert_exporter": "python",
   "pygments_lexer": "ipython3",
   "version": "3.9.5"
  }
 },
 "nbformat": 4,
 "nbformat_minor": 2
}
